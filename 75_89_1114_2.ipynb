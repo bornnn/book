{
  "nbformat": 4,
  "nbformat_minor": 0,
  "metadata": {
    "colab": {
      "provenance": []
    },
    "kernelspec": {
      "name": "python3",
      "display_name": "Python 3"
    },
    "language_info": {
      "name": "python"
    },
    "widgets": {
      "application/vnd.jupyter.widget-state+json": {
        "0a882f656c9a48f5b201ad4e0edbca68": {
          "model_module": "@jupyter-widgets/controls",
          "model_name": "VBoxModel",
          "model_module_version": "1.5.0",
          "state": {
            "_dom_classes": [],
            "_model_module": "@jupyter-widgets/controls",
            "_model_module_version": "1.5.0",
            "_model_name": "VBoxModel",
            "_view_count": null,
            "_view_module": "@jupyter-widgets/controls",
            "_view_module_version": "1.5.0",
            "_view_name": "VBoxView",
            "box_style": "",
            "children": [
              "IPY_MODEL_da17540751904d11b069d22a2ce624db",
              "IPY_MODEL_d10418dc01494f2aa2a6842c40e07ff3",
              "IPY_MODEL_e1cd81152d704157ab72217e50f2f6c7",
              "IPY_MODEL_b7c0228d4bcb4721b0e6190af5525fc4",
              "IPY_MODEL_cf78c819f1934d0d9919c143b6b31c2a"
            ],
            "layout": "IPY_MODEL_c0f455e936424ba4b82fe212232b6dbf"
          }
        },
        "da17540751904d11b069d22a2ce624db": {
          "model_module": "@jupyter-widgets/controls",
          "model_name": "LabelModel",
          "model_module_version": "1.5.0",
          "state": {
            "_dom_classes": [],
            "_model_module": "@jupyter-widgets/controls",
            "_model_module_version": "1.5.0",
            "_model_name": "LabelModel",
            "_view_count": null,
            "_view_module": "@jupyter-widgets/controls",
            "_view_module_version": "1.5.0",
            "_view_name": "LabelView",
            "description": "",
            "description_tooltip": null,
            "layout": "IPY_MODEL_3c5b1a8701034254b32ec061d2c0c095",
            "placeholder": "​",
            "style": "IPY_MODEL_3a9de522260942d9b20a750ebadda9a0",
            "value": "Select your bear!"
          }
        },
        "d10418dc01494f2aa2a6842c40e07ff3": {
          "model_module": "@jupyter-widgets/controls",
          "model_name": "FileUploadModel",
          "model_module_version": "1.5.0",
          "state": {
            "_counter": 1,
            "_dom_classes": [],
            "_model_module": "@jupyter-widgets/controls",
            "_model_module_version": "1.5.0",
            "_model_name": "FileUploadModel",
            "_view_count": null,
            "_view_module": "@jupyter-widgets/controls",
            "_view_module_version": "1.5.0",
            "_view_name": "FileUploadView",
            "accept": "",
            "button_style": "",
            "data": [
              null
            ],
            "description": "Upload",
            "description_tooltip": null,
            "disabled": false,
            "error": "",
            "icon": "upload",
            "layout": "IPY_MODEL_0dc588e6f0dc44fe8625d7f2b2f79e9e",
            "metadata": [
              {
                "name": "018468ef-e506-4bb6-806a-e014c8e77f0d.jpg",
                "type": "image/jpeg",
                "size": 176800,
                "lastModified": 1668400379235
              }
            ],
            "multiple": false,
            "style": "IPY_MODEL_e26b525556f845c08702e582043ca9aa"
          }
        },
        "e1cd81152d704157ab72217e50f2f6c7": {
          "model_module": "@jupyter-widgets/controls",
          "model_name": "ButtonModel",
          "model_module_version": "1.5.0",
          "state": {
            "_dom_classes": [],
            "_model_module": "@jupyter-widgets/controls",
            "_model_module_version": "1.5.0",
            "_model_name": "ButtonModel",
            "_view_count": null,
            "_view_module": "@jupyter-widgets/controls",
            "_view_module_version": "1.5.0",
            "_view_name": "ButtonView",
            "button_style": "",
            "description": "Classify",
            "disabled": false,
            "icon": "",
            "layout": "IPY_MODEL_d4cc9ddf6522419082ba5f6bfdea2e10",
            "style": "IPY_MODEL_50cf6f7c6172486491aa0d2778eb0e41",
            "tooltip": ""
          }
        },
        "b7c0228d4bcb4721b0e6190af5525fc4": {
          "model_module": "@jupyter-widgets/output",
          "model_name": "OutputModel",
          "model_module_version": "1.0.0",
          "state": {
            "_dom_classes": [],
            "_model_module": "@jupyter-widgets/output",
            "_model_module_version": "1.0.0",
            "_model_name": "OutputModel",
            "_view_count": null,
            "_view_module": "@jupyter-widgets/output",
            "_view_module_version": "1.0.0",
            "_view_name": "OutputView",
            "layout": "IPY_MODEL_72dcd16cb78b4ad584123a805a0e57c8",
            "msg_id": "",
            "outputs": [
              {
                "output_type": "display_data",
                "data": {
                  "text/plain": "<PIL.Image.Image image mode=RGB size=128x85>",
                  "image/png": "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\n"
                },
                "metadata": {}
              }
            ]
          }
        },
        "cf78c819f1934d0d9919c143b6b31c2a": {
          "model_module": "@jupyter-widgets/controls",
          "model_name": "LabelModel",
          "model_module_version": "1.5.0",
          "state": {
            "_dom_classes": [],
            "_model_module": "@jupyter-widgets/controls",
            "_model_module_version": "1.5.0",
            "_model_name": "LabelModel",
            "_view_count": null,
            "_view_module": "@jupyter-widgets/controls",
            "_view_module_version": "1.5.0",
            "_view_name": "LabelView",
            "description": "",
            "description_tooltip": null,
            "layout": "IPY_MODEL_cfc3c79b36f74baf9d0f78837cda6b14",
            "placeholder": "​",
            "style": "IPY_MODEL_02d723d70bc74d15aebf15cd95c77cc7",
            "value": "Its a grizzly ! Yay! ; Probability: 0.9350"
          }
        },
        "c0f455e936424ba4b82fe212232b6dbf": {
          "model_module": "@jupyter-widgets/base",
          "model_name": "LayoutModel",
          "model_module_version": "1.2.0",
          "state": {
            "_model_module": "@jupyter-widgets/base",
            "_model_module_version": "1.2.0",
            "_model_name": "LayoutModel",
            "_view_count": null,
            "_view_module": "@jupyter-widgets/base",
            "_view_module_version": "1.2.0",
            "_view_name": "LayoutView",
            "align_content": null,
            "align_items": null,
            "align_self": null,
            "border": null,
            "bottom": null,
            "display": null,
            "flex": null,
            "flex_flow": null,
            "grid_area": null,
            "grid_auto_columns": null,
            "grid_auto_flow": null,
            "grid_auto_rows": null,
            "grid_column": null,
            "grid_gap": null,
            "grid_row": null,
            "grid_template_areas": null,
            "grid_template_columns": null,
            "grid_template_rows": null,
            "height": null,
            "justify_content": null,
            "justify_items": null,
            "left": null,
            "margin": null,
            "max_height": null,
            "max_width": null,
            "min_height": null,
            "min_width": null,
            "object_fit": null,
            "object_position": null,
            "order": null,
            "overflow": null,
            "overflow_x": null,
            "overflow_y": null,
            "padding": null,
            "right": null,
            "top": null,
            "visibility": null,
            "width": null
          }
        },
        "3c5b1a8701034254b32ec061d2c0c095": {
          "model_module": "@jupyter-widgets/base",
          "model_name": "LayoutModel",
          "model_module_version": "1.2.0",
          "state": {
            "_model_module": "@jupyter-widgets/base",
            "_model_module_version": "1.2.0",
            "_model_name": "LayoutModel",
            "_view_count": null,
            "_view_module": "@jupyter-widgets/base",
            "_view_module_version": "1.2.0",
            "_view_name": "LayoutView",
            "align_content": null,
            "align_items": null,
            "align_self": null,
            "border": null,
            "bottom": null,
            "display": null,
            "flex": null,
            "flex_flow": null,
            "grid_area": null,
            "grid_auto_columns": null,
            "grid_auto_flow": null,
            "grid_auto_rows": null,
            "grid_column": null,
            "grid_gap": null,
            "grid_row": null,
            "grid_template_areas": null,
            "grid_template_columns": null,
            "grid_template_rows": null,
            "height": null,
            "justify_content": null,
            "justify_items": null,
            "left": null,
            "margin": null,
            "max_height": null,
            "max_width": null,
            "min_height": null,
            "min_width": null,
            "object_fit": null,
            "object_position": null,
            "order": null,
            "overflow": null,
            "overflow_x": null,
            "overflow_y": null,
            "padding": null,
            "right": null,
            "top": null,
            "visibility": null,
            "width": null
          }
        },
        "3a9de522260942d9b20a750ebadda9a0": {
          "model_module": "@jupyter-widgets/controls",
          "model_name": "DescriptionStyleModel",
          "model_module_version": "1.5.0",
          "state": {
            "_model_module": "@jupyter-widgets/controls",
            "_model_module_version": "1.5.0",
            "_model_name": "DescriptionStyleModel",
            "_view_count": null,
            "_view_module": "@jupyter-widgets/base",
            "_view_module_version": "1.2.0",
            "_view_name": "StyleView",
            "description_width": ""
          }
        },
        "0dc588e6f0dc44fe8625d7f2b2f79e9e": {
          "model_module": "@jupyter-widgets/base",
          "model_name": "LayoutModel",
          "model_module_version": "1.2.0",
          "state": {
            "_model_module": "@jupyter-widgets/base",
            "_model_module_version": "1.2.0",
            "_model_name": "LayoutModel",
            "_view_count": null,
            "_view_module": "@jupyter-widgets/base",
            "_view_module_version": "1.2.0",
            "_view_name": "LayoutView",
            "align_content": null,
            "align_items": null,
            "align_self": null,
            "border": null,
            "bottom": null,
            "display": null,
            "flex": null,
            "flex_flow": null,
            "grid_area": null,
            "grid_auto_columns": null,
            "grid_auto_flow": null,
            "grid_auto_rows": null,
            "grid_column": null,
            "grid_gap": null,
            "grid_row": null,
            "grid_template_areas": null,
            "grid_template_columns": null,
            "grid_template_rows": null,
            "height": null,
            "justify_content": null,
            "justify_items": null,
            "left": null,
            "margin": null,
            "max_height": null,
            "max_width": null,
            "min_height": null,
            "min_width": null,
            "object_fit": null,
            "object_position": null,
            "order": null,
            "overflow": null,
            "overflow_x": null,
            "overflow_y": null,
            "padding": null,
            "right": null,
            "top": null,
            "visibility": null,
            "width": null
          }
        },
        "e26b525556f845c08702e582043ca9aa": {
          "model_module": "@jupyter-widgets/controls",
          "model_name": "ButtonStyleModel",
          "model_module_version": "1.5.0",
          "state": {
            "_model_module": "@jupyter-widgets/controls",
            "_model_module_version": "1.5.0",
            "_model_name": "ButtonStyleModel",
            "_view_count": null,
            "_view_module": "@jupyter-widgets/base",
            "_view_module_version": "1.2.0",
            "_view_name": "StyleView",
            "button_color": null,
            "font_weight": ""
          }
        },
        "d4cc9ddf6522419082ba5f6bfdea2e10": {
          "model_module": "@jupyter-widgets/base",
          "model_name": "LayoutModel",
          "model_module_version": "1.2.0",
          "state": {
            "_model_module": "@jupyter-widgets/base",
            "_model_module_version": "1.2.0",
            "_model_name": "LayoutModel",
            "_view_count": null,
            "_view_module": "@jupyter-widgets/base",
            "_view_module_version": "1.2.0",
            "_view_name": "LayoutView",
            "align_content": null,
            "align_items": null,
            "align_self": null,
            "border": null,
            "bottom": null,
            "display": null,
            "flex": null,
            "flex_flow": null,
            "grid_area": null,
            "grid_auto_columns": null,
            "grid_auto_flow": null,
            "grid_auto_rows": null,
            "grid_column": null,
            "grid_gap": null,
            "grid_row": null,
            "grid_template_areas": null,
            "grid_template_columns": null,
            "grid_template_rows": null,
            "height": null,
            "justify_content": null,
            "justify_items": null,
            "left": null,
            "margin": null,
            "max_height": null,
            "max_width": null,
            "min_height": null,
            "min_width": null,
            "object_fit": null,
            "object_position": null,
            "order": null,
            "overflow": null,
            "overflow_x": null,
            "overflow_y": null,
            "padding": null,
            "right": null,
            "top": null,
            "visibility": null,
            "width": null
          }
        },
        "50cf6f7c6172486491aa0d2778eb0e41": {
          "model_module": "@jupyter-widgets/controls",
          "model_name": "ButtonStyleModel",
          "model_module_version": "1.5.0",
          "state": {
            "_model_module": "@jupyter-widgets/controls",
            "_model_module_version": "1.5.0",
            "_model_name": "ButtonStyleModel",
            "_view_count": null,
            "_view_module": "@jupyter-widgets/base",
            "_view_module_version": "1.2.0",
            "_view_name": "StyleView",
            "button_color": null,
            "font_weight": ""
          }
        },
        "cfc3c79b36f74baf9d0f78837cda6b14": {
          "model_module": "@jupyter-widgets/base",
          "model_name": "LayoutModel",
          "model_module_version": "1.2.0",
          "state": {
            "_model_module": "@jupyter-widgets/base",
            "_model_module_version": "1.2.0",
            "_model_name": "LayoutModel",
            "_view_count": null,
            "_view_module": "@jupyter-widgets/base",
            "_view_module_version": "1.2.0",
            "_view_name": "LayoutView",
            "align_content": null,
            "align_items": null,
            "align_self": null,
            "border": null,
            "bottom": null,
            "display": null,
            "flex": null,
            "flex_flow": null,
            "grid_area": null,
            "grid_auto_columns": null,
            "grid_auto_flow": null,
            "grid_auto_rows": null,
            "grid_column": null,
            "grid_gap": null,
            "grid_row": null,
            "grid_template_areas": null,
            "grid_template_columns": null,
            "grid_template_rows": null,
            "height": null,
            "justify_content": null,
            "justify_items": null,
            "left": null,
            "margin": null,
            "max_height": null,
            "max_width": null,
            "min_height": null,
            "min_width": null,
            "object_fit": null,
            "object_position": null,
            "order": null,
            "overflow": null,
            "overflow_x": null,
            "overflow_y": null,
            "padding": null,
            "right": null,
            "top": null,
            "visibility": null,
            "width": null
          }
        },
        "02d723d70bc74d15aebf15cd95c77cc7": {
          "model_module": "@jupyter-widgets/controls",
          "model_name": "DescriptionStyleModel",
          "model_module_version": "1.5.0",
          "state": {
            "_model_module": "@jupyter-widgets/controls",
            "_model_module_version": "1.5.0",
            "_model_name": "DescriptionStyleModel",
            "_view_count": null,
            "_view_module": "@jupyter-widgets/base",
            "_view_module_version": "1.2.0",
            "_view_name": "StyleView",
            "description_width": ""
          }
        },
        "72dcd16cb78b4ad584123a805a0e57c8": {
          "model_module": "@jupyter-widgets/base",
          "model_name": "LayoutModel",
          "model_module_version": "1.2.0",
          "state": {
            "_model_module": "@jupyter-widgets/base",
            "_model_module_version": "1.2.0",
            "_model_name": "LayoutModel",
            "_view_count": null,
            "_view_module": "@jupyter-widgets/base",
            "_view_module_version": "1.2.0",
            "_view_name": "LayoutView",
            "align_content": null,
            "align_items": null,
            "align_self": null,
            "border": null,
            "bottom": null,
            "display": null,
            "flex": null,
            "flex_flow": null,
            "grid_area": null,
            "grid_auto_columns": null,
            "grid_auto_flow": null,
            "grid_auto_rows": null,
            "grid_column": null,
            "grid_gap": null,
            "grid_row": null,
            "grid_template_areas": null,
            "grid_template_columns": null,
            "grid_template_rows": null,
            "height": null,
            "justify_content": null,
            "justify_items": null,
            "left": null,
            "margin": null,
            "max_height": null,
            "max_width": null,
            "min_height": null,
            "min_width": null,
            "object_fit": null,
            "object_position": null,
            "order": null,
            "overflow": null,
            "overflow_x": null,
            "overflow_y": null,
            "padding": null,
            "right": null,
            "top": null,
            "visibility": null,
            "width": null
          }
        }
      }
    }
  },
  "cells": [
    {
      "cell_type": "code",
      "source": [
        "!pip install voila\n",
        "!jupyter serverextension enable voila --sys-prefix\n",
        "from fastai.vision.all import *\n",
        "from fastai.vision.widgets import *"
      ],
      "metadata": {
        "colab": {
          "base_uri": "https://localhost:8080/",
          "height": 1000
        },
        "id": "xcUlWlofWVDO",
        "outputId": "79285830-7afa-41d7-807f-a04e4c592ace"
      },
      "execution_count": 15,
      "outputs": [
        {
          "output_type": "stream",
          "name": "stdout",
          "text": [
            "Looking in indexes: https://pypi.org/simple, https://us-python.pkg.dev/colab-wheels/public/simple/\n",
            "Collecting voila\n",
            "  Downloading voila-0.4.0-py3-none-any.whl (5.5 MB)\n",
            "\u001b[K     |████████████████████████████████| 5.5 MB 4.9 MB/s \n",
            "\u001b[?25hRequirement already satisfied: traitlets<6,>=5.0.3 in /usr/local/lib/python3.7/dist-packages (from voila) (5.1.1)\n",
            "Requirement already satisfied: jupyter-client<=7.4.1,>=6.1.3 in /usr/local/lib/python3.7/dist-packages (from voila) (6.1.12)\n",
            "Collecting jupyterlab-server<3,>=2.3.0\n",
            "  Downloading jupyterlab_server-2.16.3-py3-none-any.whl (54 kB)\n",
            "\u001b[K     |████████████████████████████████| 54 kB 2.4 MB/s \n",
            "\u001b[?25hCollecting websockets>=9.0\n",
            "  Downloading websockets-10.4-cp37-cp37m-manylinux_2_5_x86_64.manylinux1_x86_64.manylinux_2_17_x86_64.manylinux2014_x86_64.whl (106 kB)\n",
            "\u001b[K     |████████████████████████████████| 106 kB 68.6 MB/s \n",
            "\u001b[?25hRequirement already satisfied: jupyter-core>=4.11.0 in /usr/local/lib/python3.7/dist-packages (from voila) (4.11.2)\n",
            "Collecting nbconvert<8,>=6.4.5\n",
            "  Downloading nbconvert-7.2.4-py3-none-any.whl (273 kB)\n",
            "\u001b[K     |████████████████████████████████| 273 kB 49.4 MB/s \n",
            "\u001b[?25hCollecting nbclient<0.8,>=0.4.0\n",
            "  Downloading nbclient-0.7.0-py3-none-any.whl (71 kB)\n",
            "\u001b[K     |████████████████████████████████| 71 kB 194 kB/s \n",
            "\u001b[?25hCollecting jupyter-server<2.0.0,>=1.18\n",
            "  Downloading jupyter_server-1.23.1-py3-none-any.whl (346 kB)\n",
            "\u001b[K     |████████████████████████████████| 346 kB 53.2 MB/s \n",
            "\u001b[?25hRequirement already satisfied: pyzmq>=13 in /usr/local/lib/python3.7/dist-packages (from jupyter-client<=7.4.1,>=6.1.3->voila) (23.2.1)\n",
            "Requirement already satisfied: tornado>=4.1 in /usr/local/lib/python3.7/dist-packages (from jupyter-client<=7.4.1,>=6.1.3->voila) (6.0.4)\n",
            "Requirement already satisfied: python-dateutil>=2.1 in /usr/local/lib/python3.7/dist-packages (from jupyter-client<=7.4.1,>=6.1.3->voila) (2.8.2)\n",
            "Requirement already satisfied: packaging in /usr/local/lib/python3.7/dist-packages (from jupyter-server<2.0.0,>=1.18->voila) (21.3)\n",
            "Collecting tornado>=4.1\n",
            "  Downloading tornado-6.2-cp37-abi3-manylinux_2_5_x86_64.manylinux1_x86_64.manylinux_2_17_x86_64.manylinux2014_x86_64.whl (423 kB)\n",
            "\u001b[K     |████████████████████████████████| 423 kB 60.8 MB/s \n",
            "\u001b[?25hRequirement already satisfied: terminado>=0.8.3 in /usr/local/lib/python3.7/dist-packages (from jupyter-server<2.0.0,>=1.18->voila) (0.13.3)\n",
            "Collecting websocket-client\n",
            "  Downloading websocket_client-1.4.2-py3-none-any.whl (55 kB)\n",
            "\u001b[K     |████████████████████████████████| 55 kB 3.3 MB/s \n",
            "\u001b[?25hCollecting argon2-cffi\n",
            "  Downloading argon2_cffi-21.3.0-py3-none-any.whl (14 kB)\n",
            "Requirement already satisfied: Send2Trash in /usr/local/lib/python3.7/dist-packages (from jupyter-server<2.0.0,>=1.18->voila) (1.8.0)\n",
            "Collecting anyio<4,>=3.1.0\n",
            "  Downloading anyio-3.6.2-py3-none-any.whl (80 kB)\n",
            "\u001b[K     |████████████████████████████████| 80 kB 7.4 MB/s \n",
            "\u001b[?25hRequirement already satisfied: nbformat>=5.2.0 in /usr/local/lib/python3.7/dist-packages (from jupyter-server<2.0.0,>=1.18->voila) (5.7.0)\n",
            "Requirement already satisfied: jinja2 in /usr/local/lib/python3.7/dist-packages (from jupyter-server<2.0.0,>=1.18->voila) (2.11.3)\n",
            "Requirement already satisfied: prometheus-client in /usr/local/lib/python3.7/dist-packages (from jupyter-server<2.0.0,>=1.18->voila) (0.15.0)\n",
            "Requirement already satisfied: typing-extensions in /usr/local/lib/python3.7/dist-packages (from anyio<4,>=3.1.0->jupyter-server<2.0.0,>=1.18->voila) (4.1.1)\n",
            "Collecting sniffio>=1.1\n",
            "  Downloading sniffio-1.3.0-py3-none-any.whl (10 kB)\n",
            "Requirement already satisfied: idna>=2.8 in /usr/local/lib/python3.7/dist-packages (from anyio<4,>=3.1.0->jupyter-server<2.0.0,>=1.18->voila) (2.10)\n",
            "Collecting json5\n",
            "  Downloading json5-0.9.10-py2.py3-none-any.whl (19 kB)\n",
            "Requirement already satisfied: babel in /usr/local/lib/python3.7/dist-packages (from jupyterlab-server<3,>=2.3.0->voila) (2.11.0)\n",
            "Requirement already satisfied: jsonschema>=3.0.1 in /usr/local/lib/python3.7/dist-packages (from jupyterlab-server<3,>=2.3.0->voila) (4.3.3)\n",
            "Collecting jinja2\n",
            "  Downloading Jinja2-3.1.2-py3-none-any.whl (133 kB)\n",
            "\u001b[K     |████████████████████████████████| 133 kB 64.8 MB/s \n",
            "\u001b[?25hRequirement already satisfied: requests in /usr/local/lib/python3.7/dist-packages (from jupyterlab-server<3,>=2.3.0->voila) (2.23.0)\n",
            "Requirement already satisfied: importlib-metadata>=4.8.3 in /usr/local/lib/python3.7/dist-packages (from jupyterlab-server<3,>=2.3.0->voila) (4.13.0)\n",
            "Requirement already satisfied: zipp>=0.5 in /usr/local/lib/python3.7/dist-packages (from importlib-metadata>=4.8.3->jupyterlab-server<3,>=2.3.0->voila) (3.10.0)\n",
            "Requirement already satisfied: MarkupSafe>=2.0 in /usr/local/lib/python3.7/dist-packages (from jinja2->jupyter-server<2.0.0,>=1.18->voila) (2.0.1)\n",
            "Requirement already satisfied: attrs>=17.4.0 in /usr/local/lib/python3.7/dist-packages (from jsonschema>=3.0.1->jupyterlab-server<3,>=2.3.0->voila) (22.1.0)\n",
            "Requirement already satisfied: importlib-resources>=1.4.0 in /usr/local/lib/python3.7/dist-packages (from jsonschema>=3.0.1->jupyterlab-server<3,>=2.3.0->voila) (5.10.0)\n",
            "Requirement already satisfied: pyrsistent!=0.17.0,!=0.17.1,!=0.17.2,>=0.14.0 in /usr/local/lib/python3.7/dist-packages (from jsonschema>=3.0.1->jupyterlab-server<3,>=2.3.0->voila) (0.19.2)\n",
            "Collecting nest-asyncio\n",
            "  Downloading nest_asyncio-1.5.6-py3-none-any.whl (5.2 kB)\n",
            "Collecting traitlets<6,>=5.0.3\n",
            "  Downloading traitlets-5.5.0-py3-none-any.whl (107 kB)\n",
            "\u001b[K     |████████████████████████████████| 107 kB 66.3 MB/s \n",
            "\u001b[?25hRequirement already satisfied: pandocfilters>=1.4.1 in /usr/local/lib/python3.7/dist-packages (from nbconvert<8,>=6.4.5->voila) (1.5.0)\n",
            "Requirement already satisfied: pygments>=2.4.1 in /usr/local/lib/python3.7/dist-packages (from nbconvert<8,>=6.4.5->voila) (2.6.1)\n",
            "Collecting tinycss2\n",
            "  Downloading tinycss2-1.2.1-py3-none-any.whl (21 kB)\n",
            "Collecting mistune<3,>=2.0.3\n",
            "  Downloading mistune-2.0.4-py2.py3-none-any.whl (24 kB)\n",
            "Requirement already satisfied: beautifulsoup4 in /usr/local/lib/python3.7/dist-packages (from nbconvert<8,>=6.4.5->voila) (4.6.3)\n",
            "Collecting jupyterlab-pygments\n",
            "  Downloading jupyterlab_pygments-0.2.2-py2.py3-none-any.whl (21 kB)\n",
            "Requirement already satisfied: bleach in /usr/local/lib/python3.7/dist-packages (from nbconvert<8,>=6.4.5->voila) (5.0.1)\n",
            "Requirement already satisfied: defusedxml in /usr/local/lib/python3.7/dist-packages (from nbconvert<8,>=6.4.5->voila) (0.7.1)\n",
            "Requirement already satisfied: fastjsonschema in /usr/local/lib/python3.7/dist-packages (from nbformat>=5.2.0->jupyter-server<2.0.0,>=1.18->voila) (2.16.2)\n",
            "Requirement already satisfied: six>=1.5 in /usr/local/lib/python3.7/dist-packages (from python-dateutil>=2.1->jupyter-client<=7.4.1,>=6.1.3->voila) (1.15.0)\n",
            "Requirement already satisfied: ptyprocess in /usr/local/lib/python3.7/dist-packages (from terminado>=0.8.3->jupyter-server<2.0.0,>=1.18->voila) (0.7.0)\n",
            "Collecting argon2-cffi-bindings\n",
            "  Downloading argon2_cffi_bindings-21.2.0-cp36-abi3-manylinux_2_17_x86_64.manylinux2014_x86_64.whl (86 kB)\n",
            "\u001b[K     |████████████████████████████████| 86 kB 4.9 MB/s \n",
            "\u001b[?25hRequirement already satisfied: cffi>=1.0.1 in /usr/local/lib/python3.7/dist-packages (from argon2-cffi-bindings->argon2-cffi->jupyter-server<2.0.0,>=1.18->voila) (1.15.1)\n",
            "Requirement already satisfied: pycparser in /usr/local/lib/python3.7/dist-packages (from cffi>=1.0.1->argon2-cffi-bindings->argon2-cffi->jupyter-server<2.0.0,>=1.18->voila) (2.21)\n",
            "Requirement already satisfied: pytz>=2015.7 in /usr/local/lib/python3.7/dist-packages (from babel->jupyterlab-server<3,>=2.3.0->voila) (2022.6)\n",
            "Requirement already satisfied: webencodings in /usr/local/lib/python3.7/dist-packages (from bleach->nbconvert<8,>=6.4.5->voila) (0.5.1)\n",
            "Requirement already satisfied: pyparsing!=3.0.5,>=2.0.2 in /usr/local/lib/python3.7/dist-packages (from packaging->jupyter-server<2.0.0,>=1.18->voila) (3.0.9)\n",
            "Requirement already satisfied: urllib3!=1.25.0,!=1.25.1,<1.26,>=1.21.1 in /usr/local/lib/python3.7/dist-packages (from requests->jupyterlab-server<3,>=2.3.0->voila) (1.24.3)\n",
            "Requirement already satisfied: certifi>=2017.4.17 in /usr/local/lib/python3.7/dist-packages (from requests->jupyterlab-server<3,>=2.3.0->voila) (2022.9.24)\n",
            "Requirement already satisfied: chardet<4,>=3.0.2 in /usr/local/lib/python3.7/dist-packages (from requests->jupyterlab-server<3,>=2.3.0->voila) (3.0.4)\n",
            "Installing collected packages: traitlets, tornado, nest-asyncio, tinycss2, sniffio, nbclient, mistune, jupyterlab-pygments, jinja2, argon2-cffi-bindings, websocket-client, nbconvert, argon2-cffi, anyio, jupyter-server, json5, websockets, jupyterlab-server, voila\n",
            "  Attempting uninstall: traitlets\n",
            "    Found existing installation: traitlets 5.1.1\n",
            "    Uninstalling traitlets-5.1.1:\n",
            "      Successfully uninstalled traitlets-5.1.1\n",
            "  Attempting uninstall: tornado\n",
            "    Found existing installation: tornado 6.0.4\n",
            "    Uninstalling tornado-6.0.4:\n",
            "      Successfully uninstalled tornado-6.0.4\n",
            "  Attempting uninstall: mistune\n",
            "    Found existing installation: mistune 0.8.4\n",
            "    Uninstalling mistune-0.8.4:\n",
            "      Successfully uninstalled mistune-0.8.4\n",
            "  Attempting uninstall: jinja2\n",
            "    Found existing installation: Jinja2 2.11.3\n",
            "    Uninstalling Jinja2-2.11.3:\n",
            "      Successfully uninstalled Jinja2-2.11.3\n",
            "  Attempting uninstall: nbconvert\n",
            "    Found existing installation: nbconvert 5.6.1\n",
            "    Uninstalling nbconvert-5.6.1:\n",
            "      Successfully uninstalled nbconvert-5.6.1\n",
            "\u001b[31mERROR: pip's dependency resolver does not currently take into account all the packages that are installed. This behaviour is the source of the following dependency conflicts.\n",
            "ipython 7.9.0 requires jedi>=0.10, which is not installed.\n",
            "notebook 5.7.16 requires jinja2<=3.0.0, but you have jinja2 3.1.2 which is incompatible.\n",
            "notebook 5.7.16 requires nbconvert<6.0, but you have nbconvert 7.2.4 which is incompatible.\n",
            "google-colab 1.0.0 requires tornado~=6.0.4, but you have tornado 6.2 which is incompatible.\n",
            "flask 1.1.4 requires Jinja2<3.0,>=2.10.1, but you have jinja2 3.1.2 which is incompatible.\u001b[0m\n",
            "Successfully installed anyio-3.6.2 argon2-cffi-21.3.0 argon2-cffi-bindings-21.2.0 jinja2-3.1.2 json5-0.9.10 jupyter-server-1.23.1 jupyterlab-pygments-0.2.2 jupyterlab-server-2.16.3 mistune-2.0.4 nbclient-0.7.0 nbconvert-7.2.4 nest-asyncio-1.5.6 sniffio-1.3.0 tinycss2-1.2.1 tornado-6.2 traitlets-5.5.0 voila-0.4.0 websocket-client-1.4.2 websockets-10.4\n"
          ]
        },
        {
          "output_type": "display_data",
          "data": {
            "application/vnd.colab-display-data+json": {
              "pip_warning": {
                "packages": [
                  "tornado"
                ]
              }
            }
          },
          "metadata": {}
        },
        {
          "output_type": "stream",
          "name": "stdout",
          "text": [
            "Enabling: voila\n",
            "- Writing config: /usr/etc/jupyter\n",
            "    - Validating...\n",
            "      voila 0.4.0 \u001b[32mOK\u001b[0m\n"
          ]
        }
      ]
    },
    {
      "cell_type": "code",
      "source": [
        "learn_inf = load_learner('/content/export.pkl')\n",
        "btn_upload = widgets.FileUpload()\n",
        "out_pl = widgets.Output()\n",
        "lbl_pred = widgets.Label()\n",
        "btn_run = widgets.Button(description='Classify')\n",
        "\n",
        "def on_click_classify(change):\n",
        "    img = PILImage.create(btn_upload.data[-1])\n",
        "    out_pl.clear_output()\n",
        "    with out_pl: display(img.to_thumb(128,128))\n",
        "    pred,pred_idx,probs = learn_inf.predict(img)\n",
        "    lbl_pred.value = f'Its a {pred} ! Yay! ; Probability: {probs[pred_idx]:.04f}'"
      ],
      "metadata": {
        "id": "TQUskaXXXLh8"
      },
      "execution_count": 18,
      "outputs": []
    },
    {
      "cell_type": "code",
      "source": [
        "btn_run.on_click(on_click_classify)"
      ],
      "metadata": {
        "id": "R1jl5MvhXey-"
      },
      "execution_count": 19,
      "outputs": []
    },
    {
      "cell_type": "code",
      "source": [
        "VBox([widgets.Label('Select your bear!'), \n",
        "      btn_upload, btn_run, out_pl, lbl_pred])"
      ],
      "metadata": {
        "colab": {
          "base_uri": "https://localhost:8080/",
          "height": 230,
          "referenced_widgets": [
            "0a882f656c9a48f5b201ad4e0edbca68",
            "da17540751904d11b069d22a2ce624db",
            "d10418dc01494f2aa2a6842c40e07ff3",
            "e1cd81152d704157ab72217e50f2f6c7",
            "b7c0228d4bcb4721b0e6190af5525fc4",
            "cf78c819f1934d0d9919c143b6b31c2a",
            "c0f455e936424ba4b82fe212232b6dbf",
            "3c5b1a8701034254b32ec061d2c0c095",
            "3a9de522260942d9b20a750ebadda9a0",
            "0dc588e6f0dc44fe8625d7f2b2f79e9e",
            "e26b525556f845c08702e582043ca9aa",
            "d4cc9ddf6522419082ba5f6bfdea2e10",
            "50cf6f7c6172486491aa0d2778eb0e41",
            "cfc3c79b36f74baf9d0f78837cda6b14",
            "02d723d70bc74d15aebf15cd95c77cc7",
            "72dcd16cb78b4ad584123a805a0e57c8"
          ]
        },
        "id": "IxILNzquXf8C",
        "outputId": "7800be9f-329b-4212-9b43-2a2107b09fed"
      },
      "execution_count": 20,
      "outputs": [
        {
          "output_type": "display_data",
          "data": {
            "text/plain": [
              "VBox(children=(Label(value='Select your bear!'), FileUpload(value={}, description='Upload'), Button(descriptio…"
            ],
            "application/vnd.jupyter.widget-view+json": {
              "version_major": 2,
              "version_minor": 0,
              "model_id": "0a882f656c9a48f5b201ad4e0edbca68"
            }
          },
          "metadata": {}
        },
        {
          "output_type": "display_data",
          "data": {
            "text/plain": [
              "<IPython.core.display.HTML object>"
            ],
            "text/html": [
              "\n",
              "<style>\n",
              "    /* Turns off some styling */\n",
              "    progress {\n",
              "        /* gets rid of default border in Firefox and Opera. */\n",
              "        border: none;\n",
              "        /* Needs to be in here for Safari polyfill so background images work as expected. */\n",
              "        background-size: auto;\n",
              "    }\n",
              "    progress:not([value]), progress:not([value])::-webkit-progress-bar {\n",
              "        background: repeating-linear-gradient(45deg, #7e7e7e, #7e7e7e 10px, #5c5c5c 10px, #5c5c5c 20px);\n",
              "    }\n",
              "    .progress-bar-interrupted, .progress-bar-interrupted::-webkit-progress-bar {\n",
              "        background: #F44336;\n",
              "    }\n",
              "</style>\n"
            ]
          },
          "metadata": {}
        },
        {
          "output_type": "display_data",
          "data": {
            "text/plain": [
              "<IPython.core.display.HTML object>"
            ],
            "text/html": []
          },
          "metadata": {}
        }
      ]
    },
    {
      "cell_type": "code",
      "source": [],
      "metadata": {
        "id": "435qFOdoXhWW"
      },
      "execution_count": null,
      "outputs": []
    }
  ]
}